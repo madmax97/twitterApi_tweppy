{
 "cells": [
  {
   "cell_type": "code",
   "execution_count": 1,
   "metadata": {},
   "outputs": [],
   "source": [
    "import requests\n",
    "import json\n",
    "import math"
   ]
  },
  {
   "cell_type": "code",
   "execution_count": 68,
   "metadata": {},
   "outputs": [],
   "source": [
    "def get_all(myjson, key):\n",
    "    if type(myjson) == str:\n",
    "        myjson = json.loads(myjson)\n",
    "    if type(myjson) is dict:\n",
    "        for jsonkey in myjson:\n",
    "            if type(myjson[jsonkey]) in (list, dict):\n",
    "                get_all(myjson[jsonkey], key)\n",
    "            elif jsonkey == key:\n",
    "                return(myjson[jsonkey])"
   ]
  },
  {
   "cell_type": "code",
   "execution_count": 69,
   "metadata": {},
   "outputs": [],
   "source": [
    "def find(id, json_repr):\n",
    "    results = []\n",
    "\n",
    "    def _decode_dict(a_dict):\n",
    "        try: results.append(a_dict[id])\n",
    "        except KeyError: pass\n",
    "        return a_dict\n",
    "\n",
    "    json.loads(json_repr, object_hook=_decode_dict)  # Return value ignored.\n",
    "    return results"
   ]
  },
  {
   "cell_type": "code",
   "execution_count": 70,
   "metadata": {},
   "outputs": [],
   "source": [
    "def distance(a,b,c,d):\n",
    "    #pi - число pi, rad - радиус сферы (Земли)\n",
    "    rad = 6372795\n",
    "\n",
    "    #координаты двух точек\n",
    "    llat1 = float(a)\n",
    "    llong1 = float(b)\n",
    "\n",
    "    llat2 = float(c)\n",
    "    llong2 = float(d)\n",
    "\n",
    "    #в радианах\n",
    "    lat1 = llat1*math.pi/180.\n",
    "    lat2 = llat2*math.pi/180.\n",
    "    long1 = llong1*math.pi/180.\n",
    "    long2 = llong2*math.pi/180.\n",
    "\n",
    "    #косинусы и синусы широт и разницы долгот\n",
    "    cl1 = math.cos(lat1)\n",
    "    cl2 = math.cos(lat2)\n",
    "    sl1 = math.sin(lat1)\n",
    "    sl2 = math.sin(lat2)\n",
    "    delta = long2 - long1\n",
    "    cdelta = math.cos(delta)\n",
    "    sdelta = math.sin(delta)\n",
    "\n",
    "    #вычисления длины большого круга\n",
    "    y = math.sqrt(math.pow(cl2*sdelta,2)+math.pow(cl1*sl2-sl1*cl2*cdelta,2))\n",
    "    x = sl1*sl2+cl1*cl2*cdelta\n",
    "    ad = math.atan2(y,x)\n",
    "    dist = ad*rad\n",
    "\n",
    "    return dist\n",
    "    print('Distance >> %.0f' % dist, ' [meters]')"
   ]
  },
  {
   "cell_type": "code",
   "execution_count": 71,
   "metadata": {},
   "outputs": [],
   "source": [
    "adr = 'https://geocode-maps.yandex.ru/1.x/?format=json&geocode=Россия, Свердловская область, Екатеринбург, '\n",
    "per1 = \"Малышева 140\"\n",
    "per2 = \"Ленина 50\"\n",
    "url1 = adr + per1\n",
    "page1 = requests.get(url1)\n",
    "url2 = adr + per2\n",
    "page2 = requests.get(url2)"
   ]
  },
  {
   "cell_type": "code",
   "execution_count": 72,
   "metadata": {},
   "outputs": [
    {
     "name": "stdout",
     "output_type": "stream",
     "text": [
      "['60.65317 56.837987', '60.599981 56.834289', '61.384237 57.096279', '60.827317 56.693061', '60.548121 56.965211']\n"
     ]
    }
   ],
   "source": [
    "mass1 = find('lowerCorner', page1.text)\n",
    "mass2 = find('lowerCorner', page2.text)\n",
    "print(mass1)"
   ]
  },
  {
   "cell_type": "code",
   "execution_count": 73,
   "metadata": {},
   "outputs": [
    {
     "name": "stdout",
     "output_type": "stream",
     "text": [
      "60.65317 56.837987 60.617848 56.837716\n"
     ]
    }
   ],
   "source": [
    "z1 = mass1[0].split(\" \")\n",
    "z2 = mass2[0].split(\" \")\n",
    "print(z1[0], z1[1], z2[0], z2[1])"
   ]
  },
  {
   "cell_type": "code",
   "execution_count": 74,
   "metadata": {},
   "outputs": [
    {
     "data": {
      "text/plain": [
       "3928.7615937647843"
      ]
     },
     "execution_count": 74,
     "metadata": {},
     "output_type": "execute_result"
    }
   ],
   "source": [
    "metrs = distance(z1[0], z1[1], z2[0], z2[1])\n",
    "metrs"
   ]
  },
  {
   "cell_type": "code",
   "execution_count": 8,
   "metadata": {},
   "outputs": [
    {
     "data": {
      "text/plain": [
       "'{\"response\":{\"GeoObjectCollection\":{\"metaDataProperty\":{\"GeocoderResponseMetaData\":{\"request\":\"Россия, Свердловская область, Екатеринбург, Малышева 140\",\"found\":\"5\",\"results\":\"10\"}},\"featureMember\":[{\"GeoObject\":{\"metaDataProperty\":{\"GeocoderMetaData\":{\"kind\":\"house\",\"text\":\"Россия, Свердловская область, Екатеринбург, улица Малышева, 140\",\"precision\":\"exact\",\"Address\":{\"country_code\":\"RU\",\"postal_code\":\"620078\",\"formatted\":\"Свердловская область, Екатеринбург, улица Малышева, 140\",\"Components\":[{\"kind\":\"country\",\"name\":\"Россия\"},{\"kind\":\"province\",\"name\":\"Уральский федеральный округ\"},{\"kind\":\"province\",\"name\":\"Свердловская область\"},{\"kind\":\"area\",\"name\":\"муниципальное образование Город Екатеринбург\"},{\"kind\":\"locality\",\"name\":\"Екатеринбург\"},{\"kind\":\"street\",\"name\":\"улица Малышева\"},{\"kind\":\"house\",\"name\":\"140\"}]},\"AddressDetails\":{\"Country\":{\"AddressLine\":\"Свердловская область, Екатеринбург, улица Малышева, 140\",\"CountryNameCode\":\"RU\",\"CountryName\":\"Россия\",\"AdministrativeArea\":{\"AdministrativeAreaName\":\"Свердловская область\",\"SubAdministrativeArea\":{\"SubAdministrativeAreaName\":\"муниципальное образование Город Екатеринбург\",\"Locality\":{\"LocalityName\":\"Екатеринбург\",\"Thoroughfare\":{\"ThoroughfareName\":\"улица Малышева\",\"Premise\":{\"PremiseNumber\":\"140\",\"PostalCode\":{\"PostalCodeNumber\":\"620078\"}}}}}}}}}},\"description\":\"Екатеринбург, Свердловская область, Россия\",\"name\":\"улица Малышева, 140\",\"boundedBy\":{\"Envelope\":{\"lowerCorner\":\"60.65317 56.837987\",\"upperCorner\":\"60.661381 56.842487\"}},\"Point\":{\"pos\":\"60.657275 56.840237\"}}},{\"GeoObject\":{\"metaDataProperty\":{\"GeocoderMetaData\":{\"kind\":\"street\",\"text\":\"Россия, Свердловская область, Екатеринбург, площадь Малышева\",\"precision\":\"street\",\"Address\":{\"country_code\":\"RU\",\"formatted\":\"Свердловская область, Екатеринбург, площадь Малышева\",\"Components\":[{\"kind\":\"country\",\"name\":\"Россия\"},{\"kind\":\"province\",\"name\":\"Уральский федеральный округ\"},{\"kind\":\"province\",\"name\":\"Свердловская область\"},{\"kind\":\"area\",\"name\":\"муниципальное образование Город Екатеринбург\"},{\"kind\":\"locality\",\"name\":\"Екатеринбург\"},{\"kind\":\"street\",\"name\":\"площадь Малышева\"}]},\"AddressDetails\":{\"Country\":{\"AddressLine\":\"Свердловская область, Екатеринбург, площадь Малышева\",\"CountryNameCode\":\"RU\",\"CountryName\":\"Россия\",\"AdministrativeArea\":{\"AdministrativeAreaName\":\"Свердловская область\",\"SubAdministrativeArea\":{\"SubAdministrativeAreaName\":\"муниципальное образование Город Екатеринбург\",\"Locality\":{\"LocalityName\":\"Екатеринбург\",\"Thoroughfare\":{\"ThoroughfareName\":\"площадь Малышева\"}}}}}}}},\"description\":\"Екатеринбург, Свердловская область, Россия\",\"name\":\"площадь Малышева\",\"boundedBy\":{\"Envelope\":{\"lowerCorner\":\"60.599981 56.834289\",\"upperCorner\":\"60.601086 56.835357\"}},\"Point\":{\"pos\":\"60.600529 56.834821\"}}},{\"GeoObject\":{\"metaDataProperty\":{\"GeocoderMetaData\":{\"kind\":\"locality\",\"text\":\"Россия, Свердловская область, поселок городского типа Малышева\",\"precision\":\"other\",\"Address\":{\"country_code\":\"RU\",\"formatted\":\"Свердловская область, поселок городского типа Малышева\",\"Components\":[{\"kind\":\"country\",\"name\":\"Россия\"},{\"kind\":\"province\",\"name\":\"Уральский федеральный округ\"},{\"kind\":\"province\",\"name\":\"Свердловская область\"},{\"kind\":\"area\",\"name\":\"Малышевский городской округ\"},{\"kind\":\"locality\",\"name\":\"поселок городского типа Малышева\"}]},\"AddressDetails\":{\"Country\":{\"AddressLine\":\"Свердловская область, поселок городского типа Малышева\",\"CountryNameCode\":\"RU\",\"CountryName\":\"Россия\",\"AdministrativeArea\":{\"AdministrativeAreaName\":\"Свердловская область\",\"SubAdministrativeArea\":{\"SubAdministrativeAreaName\":\"Малышевский городской округ\",\"Locality\":{\"LocalityName\":\"поселок городского типа Малышева\"}}}}}}},\"description\":\"Свердловская область, Россия\",\"name\":\"поселок городского типа Малышева\",\"boundedBy\":{\"Envelope\":{\"lowerCorner\":\"61.384237 57.096279\",\"upperCorner\":\"61.43633 57.133754\"}},\"Point\":{\"pos\":\"61.395313 57.115285\"}}},{\"GeoObject\":{\"metaDataProperty\":{\"GeocoderMetaData\":{\"kind\":\"street\",\"text\":\"Россия, Свердловская область, Арамиль, улица Малышева\",\"precision\":\"street\",\"Address\":{\"country_code\":\"RU\",\"formatted\":\"Свердловская область, Арамиль, улица Малышева\",\"Components\":[{\"kind\":\"country\",\"name\":\"Россия\"},{\"kind\":\"province\",\"name\":\"Уральский федеральный округ\"},{\"kind\":\"province\",\"name\":\"Свердловская область\"},{\"kind\":\"area\",\"name\":\"Арамильский городской округ\"},{\"kind\":\"locality\",\"name\":\"Арамиль\"},{\"kind\":\"street\",\"name\":\"улица Малышева\"}]},\"AddressDetails\":{\"Country\":{\"AddressLine\":\"Свердловская область, Арамиль, улица Малышева\",\"CountryNameCode\":\"RU\",\"CountryName\":\"Россия\",\"AdministrativeArea\":{\"AdministrativeAreaName\":\"Свердловская область\",\"SubAdministrativeArea\":{\"SubAdministrativeAreaName\":\"Арамильский городской округ\",\"Locality\":{\"LocalityName\":\"Арамиль\",\"Thoroughfare\":{\"ThoroughfareName\":\"улица Малышева\"}}}}}}}},\"description\":\"Арамиль, Свердловская область, Россия\",\"name\":\"улица Малышева\",\"boundedBy\":{\"Envelope\":{\"lowerCorner\":\"60.827317 56.693061\",\"upperCorner\":\"60.839687 56.697069\"}},\"Point\":{\"pos\":\"60.83366 56.694365\"}}},{\"GeoObject\":{\"metaDataProperty\":{\"GeocoderMetaData\":{\"kind\":\"street\",\"text\":\"Россия, Свердловская область, Верхняя Пышма, улица Малышева\",\"precision\":\"street\",\"Address\":{\"country_code\":\"RU\",\"formatted\":\"Свердловская область, Верхняя Пышма, улица Малышева\",\"Components\":[{\"kind\":\"country\",\"name\":\"Россия\"},{\"kind\":\"province\",\"name\":\"Уральский федеральный округ\"},{\"kind\":\"province\",\"name\":\"Свердловская область\"},{\"kind\":\"area\",\"name\":\"городской округ Верхняя Пышма\"},{\"kind\":\"locality\",\"name\":\"Верхняя Пышма\"},{\"kind\":\"street\",\"name\":\"улица Малышева\"}]},\"AddressDetails\":{\"Country\":{\"AddressLine\":\"Свердловская область, Верхняя Пышма, улица Малышева\",\"CountryNameCode\":\"RU\",\"CountryName\":\"Россия\",\"AdministrativeArea\":{\"AdministrativeAreaName\":\"Свердловская область\",\"SubAdministrativeArea\":{\"SubAdministrativeAreaName\":\"городской округ Верхняя Пышма\",\"Locality\":{\"LocalityName\":\"Верхняя Пышма\",\"Thoroughfare\":{\"ThoroughfareName\":\"улица Малышева\"}}}}}}}},\"description\":\"Верхняя Пышма, Свердловская область, Россия\",\"name\":\"улица Малышева\",\"boundedBy\":{\"Envelope\":{\"lowerCorner\":\"60.548121 56.965211\",\"upperCorner\":\"60.553304 56.966987\"}},\"Point\":{\"pos\":\"60.550708 56.966114\"}}}]}}}'"
      ]
     },
     "execution_count": 8,
     "metadata": {},
     "output_type": "execute_result"
    }
   ],
   "source": [
    "page1.text"
   ]
  }
 ],
 "metadata": {
  "kernelspec": {
   "display_name": "Python 3",
   "language": "python",
   "name": "python3"
  },
  "language_info": {
   "codemirror_mode": {
    "name": "ipython",
    "version": 3
   },
   "file_extension": ".py",
   "mimetype": "text/x-python",
   "name": "python",
   "nbconvert_exporter": "python",
   "pygments_lexer": "ipython3",
   "version": "3.6.6"
  }
 },
 "nbformat": 4,
 "nbformat_minor": 2
}
