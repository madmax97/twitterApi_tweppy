{
 "cells": [
  {
   "cell_type": "code",
   "execution_count": 1,
   "metadata": {},
   "outputs": [],
   "source": [
    "from tweepy import Stream\n",
    "from tweepy import OAuthHandler\n",
    "from tweepy.streaming import StreamListener\n",
    "import time\n",
    "import json\n",
    "import sqlite3\n",
    "from datetime import datetime\n",
    "import re\n",
    "import datetime"
   ]
  },
  {
   "cell_type": "code",
   "execution_count": 2,
   "metadata": {},
   "outputs": [],
   "source": [
    "def filter(item):\n",
    "    item = item.replace(\"’\",\"'\")\n",
    "    item = item.replace(\"”\",'\"')\n",
    "    item = item.replace(\"“\",'\"')\n",
    "    item = item.replace(\"…\",' ')\n",
    "    item = item.replace(\"&amp;\",' and ')\n",
    "    item = re.sub(\"([…:;|])\", \" \", item)\n",
    "    item = item.replace(\"—\",'-')\n",
    "    item = item.replace(\"\\n\",' ')\n",
    "    item = item.replace(\"\\t\",' ')\n",
    "    #item = item.replace(\"([a-z])\\\\1+\", r\"\\1\")\n",
    "    item = re.sub(\"([a-zA-Z])\\\\1+\\\\1+\", r\"\\1\", item)\n",
    "    item = re.sub(\"([!?\\\"'])\\\\1+\", r\"\\1\", item)\n",
    "    item = re.sub(\"([\\.])\\\\1+\", r\" \\1\\1\\1 \", item)\n",
    "    item = re.sub(\"([!?])\", r\" \\1 \", item)\n",
    "    item = re.sub(\"([^\\w\\.,\\-'\\\"!?])\", r\" \", item)\n",
    "    item = ' '.join(item.split())\n",
    "    #print(item)\n",
    "    return item    \n",
    "\n",
    "\n",
    "def cleaner_text(text, emoji_del=True, links_del=True, url_del=True):\n",
    "    #regex for url\n",
    "    urlregex = re.compile(r'\\w+:\\/{2}[\\d\\w-]+(\\.[\\d\\w-]+)*(?:(?:\\/[^\\s/]*))*')\n",
    "    #regex for emoji\n",
    "    emojiregex = re.compile(r'([\\U0001F601-\\U0001F64F]|[\\U0001F900-\\U0001F9FF]|[\\U0001F680-\\U0001F6FF])')\n",
    "    #regx for links\n",
    "    linksregex = re.compile(r'@\\w+')\n",
    "    #regex for hashtags\n",
    "    hashregex = re.compile(r'#\\w+')\n",
    "    \n",
    "    if(url_del):\n",
    "        text = urlregex.sub('',text)\n",
    "    if(links_del):\n",
    "        text = linksregex.sub('',text)\n",
    "    if(emoji_del):\n",
    "        text = emojiregex.sub('',text)\n",
    "    text = hashregex.sub('',text)\n",
    "    \n",
    "    text = filter(text)\n",
    "    return text"
   ]
  },
  {
   "cell_type": "code",
   "execution_count": 3,
   "metadata": {},
   "outputs": [],
   "source": [
    "#consumer key, consumer secret, access token, access secret.\n",
    "ckey=\"\"\n",
    "csecret=\"\"\n",
    "atoken=\"\"\n",
    "asecret=\"\"\n",
    "fmt = '%Y-%m-%d %H:%M:%S'\n",
    "# connection to db\n",
    "conn = sqlite3.connect('C:/Users/Maxim/Nero/Chinook_Sqlite.sqlite')\n",
    "c = conn.cursor()"
   ]
  },
  {
   "cell_type": "code",
   "execution_count": 4,
   "metadata": {},
   "outputs": [],
   "source": [
    "class listener(StreamListener):\n",
    "\n",
    "    def on_data(self, data):\n",
    "        all_data = json.loads(data)\n",
    "        tweet = all_data[\"text\"]\n",
    "        dt = all_data[\"created_at\"]\n",
    "        id = all_data[\"id\"]\n",
    "        #followers = all_data[\"followers\"]\n",
    "        cl_tweel = cleaner_text(tweet)\n",
    "        user_id = all_data[\"user\"][\"id\"]\n",
    "        fl = all_data[\"user\"][\"followers_count\"]\n",
    "        #print((id,0,cl_tweel,dt,user_id,fl))\n",
    "\n",
    "        if (not(cl_tweel == '')):\n",
    "            c.execute(\"insert into rtwi (id_tweet,sentiment,review,datatme,us_id,followers)values (?,?,?,?,?,?)\",\n",
    "                   (id,0,cl_tweel,dt,user_id,fl))\n",
    "        conn.commit()\n",
    "\n",
    "        return True\n",
    "\n",
    "\n",
    "    def on_error(self, status):\n",
    "        print(status)"
   ]
  },
  {
   "cell_type": "code",
   "execution_count": null,
   "metadata": {},
   "outputs": [],
   "source": [
    "auth = OAuthHandler(ckey, csecret)\n",
    "auth.set_access_token(atoken, asecret)\n",
    "\n",
    "twitterStream = Stream(auth, listener())\n",
    "twitterStream.filter(track=[\"bitcoin\"])"
   ]
  },
  {
   "cell_type": "code",
   "execution_count": null,
   "metadata": {},
   "outputs": [],
   "source": [
    "conn.close()"
   ]
  },
  {
   "cell_type": "code",
   "execution_count": null,
   "metadata": {},
   "outputs": [],
   "source": []
  }
 ],
 "metadata": {
  "kernelspec": {
   "display_name": "Python 3",
   "language": "python",
   "name": "python3"
  },
  "language_info": {
   "codemirror_mode": {
    "name": "ipython",
    "version": 3
   },
   "file_extension": ".py",
   "mimetype": "text/x-python",
   "name": "python",
   "nbconvert_exporter": "python",
   "pygments_lexer": "ipython3",
   "version": "3.6.6"
  }
 },
 "nbformat": 4,
 "nbformat_minor": 2
}
