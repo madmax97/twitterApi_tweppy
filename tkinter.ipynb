{
 "cells": [
  {
   "cell_type": "code",
   "execution_count": 37,
   "metadata": {},
   "outputs": [],
   "source": [
    "from tkinter import *\n",
    "from tkinter import ttk\n",
    "import time\n",
    "import sys\n",
    "import requests\n",
    "import json\n",
    "import math\n",
    "import sqlite3\n",
    "conn = sqlite3.connect('C:/app/bd_apt.db')\n",
    "cursor1 = conn.cursor()\n",
    "cursor3 = conn.cursor()"
   ]
  },
  {
   "cell_type": "code",
   "execution_count": 38,
   "metadata": {},
   "outputs": [],
   "source": [
    "def get_all(myjson, key):\n",
    "    if type(myjson) == str:\n",
    "        myjson = json.loads(myjson)\n",
    "    if type(myjson) is dict:\n",
    "        for jsonkey in myjson:\n",
    "            if type(myjson[jsonkey]) in (list, dict):\n",
    "                get_all(myjson[jsonkey], key)\n",
    "            elif jsonkey == key:\n",
    "                return(myjson[jsonkey])"
   ]
  },
  {
   "cell_type": "code",
   "execution_count": 39,
   "metadata": {},
   "outputs": [],
   "source": [
    "def find222(id, json_repr):\n",
    "    results = []\n",
    "\n",
    "    def _decode_dict(a_dict):\n",
    "        try: results.append(a_dict[id])\n",
    "        except KeyError: pass\n",
    "        return a_dict\n",
    "\n",
    "    json.loads(json_repr, object_hook=_decode_dict)  # Return value ignored.\n",
    "    return results"
   ]
  },
  {
   "cell_type": "code",
   "execution_count": 40,
   "metadata": {},
   "outputs": [],
   "source": [
    "def distance(a,b,c,d):\n",
    "    #pi - число pi, rad - радиус сферы (Земли)\n",
    "    rad = 6372795\n",
    "\n",
    "    #координаты двух точек\n",
    "    llat1 = float(a)\n",
    "    llong1 = float(b)\n",
    "\n",
    "    llat2 = float(c)\n",
    "    llong2 = float(d)\n",
    "\n",
    "    #в радианах\n",
    "    lat1 = llat1*math.pi/180.\n",
    "    lat2 = llat2*math.pi/180.\n",
    "    long1 = llong1*math.pi/180.\n",
    "    long2 = llong2*math.pi/180.\n",
    "\n",
    "    #косинусы и синусы широт и разницы долгот\n",
    "    cl1 = math.cos(lat1)\n",
    "    cl2 = math.cos(lat2)\n",
    "    sl1 = math.sin(lat1)\n",
    "    sl2 = math.sin(lat2)\n",
    "    delta = long2 - long1\n",
    "    cdelta = math.cos(delta)\n",
    "    sdelta = math.sin(delta)\n",
    "\n",
    "    #вычисления длины большого круга\n",
    "    y = math.sqrt(math.pow(cl2 * sdelta, 2)+math.pow((cl1 * sl2) - (sl1 * cl2 * cdelta), 2))\n",
    "    x = sl1*sl2+cl1*cl2*cdelta\n",
    "    ad = math.atan2(y,x)\n",
    "    dist = ad*rad\n",
    "\n",
    "    return dist\n",
    "    print('Distance >> %.0f' % dist, ' [meters]')"
   ]
  },
  {
   "cell_type": "code",
   "execution_count": 41,
   "metadata": {},
   "outputs": [],
   "source": [
    "# Получаем поля из формы\n",
    "def click_button():\n",
    "    A = e1.get()\n",
    "    B = e2.get()\n",
    "    C = e3.get()\n",
    "    out(A,B,C)"
   ]
  },
  {
   "cell_type": "code",
   "execution_count": 53,
   "metadata": {},
   "outputs": [],
   "source": [
    "# Делаем запросы к БД, вызываем др функции, выводим ответ\n",
    "def out(street, house, lec):\n",
    "    naz = lec\n",
    "    # Делаем SELECT запрос к базе данных, используя обычный SQL-синтаксис\n",
    "    cursor3.execute(\"\"\"SELECT aktiv_id FROM lec WHERE name=(?)\"\"\", (naz,))\n",
    "    results3 = cursor3.fetchall()\n",
    "    a = results3[0]\n",
    "    b = str(a[0])\n",
    "    cursor1.execute(\"SELECT lec.name,lec.volume,MIN(price),contry.name,naz_a.name,naz_a.id FROM contry,lec,naz_a WHERE contry_id = contry.id AND naz_a.id=naz_a_id AND lec.aktiv_id= (?)\",\n",
    "                    (b,))\n",
    "    results1 = cursor1.fetchall()\n",
    "    \n",
    "    adr, metrs = dist(street, house, results1[0][5])\n",
    "    otvet = \"Лекарство: \" + results1[0][0] + \"\\nСтрана производства: \" + results1[0][3]\n",
    "    otvet += \"\\nАптека: \" + results1[0][4] + \" \\nЦена: \" + str(results1[0][2])\n",
    "    otvet += \"рублей\\nАдресс: \" + adr + \"\\nРасстояние от указанного адресса: \" + str(metrs)\n",
    "    print(otvet)\n",
    "    t1.insert(END, otvet)\n",
    "    pass"
   ]
  },
  {
   "cell_type": "code",
   "execution_count": 70,
   "metadata": {},
   "outputs": [],
   "source": [
    "# Расчет расстояния\n",
    "def dist(street, house, apt_id):\n",
    "    n = ''\n",
    "    me = 99999\n",
    "    adr = 'https://geocode-maps.yandex.ru/1.x/?format=json&geocode=Россия, Свердловская область, Екатеринбург,'\n",
    "    adr1 = adr + street + ', ' + str(house)\n",
    "    page1 = requests.get(adr1)\n",
    "    mass1 = find222('lowerCorner', page1.text)\n",
    "    koordinata1 = mass1[0].split(\" \")\n",
    "    \n",
    "    cursor1.execute(\"\"\"SELECT name,adress FROM apt WHERE naz_a_id=(?)\"\"\", (apt_id, ))\n",
    "    results1 = cursor1.fetchall()\n",
    "    for r in results1:\n",
    "        mass2 = r[1]\n",
    "        koordinata2 = mass2.split(\" \")\n",
    "        metrs = distance(koordinata1[0], koordinata1[1], koordinata2[0], koordinata2[1])\n",
    "        if me> metrs:\n",
    "            me = metrs\n",
    "            n = r[0]\n",
    "            \n",
    "    \n",
    "    return n,me"
   ]
  },
  {
   "cell_type": "code",
   "execution_count": 71,
   "metadata": {},
   "outputs": [
    {
     "name": "stdout",
     "output_type": "stream",
     "text": [
      "['60.583254', '56.834057']\n",
      "60.604059 56.779614\n",
      "60.600574 56.849772\n",
      "60.608075 56.802751\n",
      "Лекарство: АЗИТРОМИЦИН\n",
      "Страна производства: Россия\n",
      "Аптека: apteka.ru \n",
      "Цена: 30рублей\n",
      "Адресс: Свердлова, 11\n",
      "Расстояние от указанного адресса: 2108.9815831765554\n"
     ]
    }
   ],
   "source": [
    "window = Tk()\n",
    "window.geometry('650x550')\n",
    "\n",
    "tf = Frame(window)\n",
    "tf.pack()\n",
    "\n",
    "bf = Frame(window)\n",
    "bf.pack(side=BOTTOM)\n",
    "\n",
    "l1 = Label(tf, text='Ваш адресс:')\n",
    "l1.config(font=('Verdana',25))\n",
    "l1.pack(side=LEFT)\n",
    "\n",
    "l2 = Label(tf, text='Город')\n",
    "l2.config(font=('Verdana',25))\n",
    "l2.pack()\n",
    "\n",
    "c1 = ttk.Combobox(tf, values='Екатеринбург')\n",
    "c1.pack()\n",
    "c1.current(0) \n",
    "\n",
    "l3 = Label(tf, text='Улица')\n",
    "l3.config(font=('Verdana',25))\n",
    "l3.pack()\n",
    "e1 = Entry(tf, width = 10,text='Ленина')\n",
    "e1.pack()\n",
    "e1.insert(0, \"Ленина\")\n",
    "\n",
    "l4 = Label(tf, text='Дом')\n",
    "l4.config(font=('Verdana', 25))\n",
    "l4.pack()\n",
    "e2 = Entry(tf, width=10)\n",
    "e2.pack()\n",
    "e2.insert(0, \"10\")\n",
    "\n",
    "l5 = Label(window, text='Необходимый препарат')\n",
    "l5.config(font=('Verdana', 25))\n",
    "l5.pack()\n",
    "e3 = Entry(window, width=10)\n",
    "e3.pack()\n",
    "e3.insert(0, \"АЗИТРОМИЦИН\")\n",
    "\n",
    "t1 = Text(bf, height=10, width=80)\n",
    "t1.pack()\n",
    "\n",
    "\n",
    "b1 = Button(bf, text='Найти', command=click_button)\n",
    "b1.config(font=('Verdana', 25), width=10, height=2)\n",
    "b1.pack()\n",
    "\n",
    "window.mainloop()"
   ]
  },
  {
   "cell_type": "code",
   "execution_count": 72,
   "metadata": {},
   "outputs": [
    {
     "name": "stdout",
     "output_type": "stream",
     "text": [
      "https://geocode-maps.yandex.ru/1.x/?format=json&geocode=Россия, Свердловская область, Екатеринбург,60.604059 56.779614\n",
      "https://geocode-maps.yandex.ru/1.x/?format=json&geocode=Россия, Свердловская область, Екатеринбург,60.600574 56.849772\n",
      "https://geocode-maps.yandex.ru/1.x/?format=json&geocode=Россия, Свердловская область, Екатеринбург,60.608075 56.802751\n"
     ]
    }
   ],
   "source": [
    "adr = 'https://geocode-maps.yandex.ru/1.x/?format=json&geocode=Россия, Свердловская область, Екатеринбург,'\n",
    "cursor1.execute(\"\"\"SELECT name,adress FROM apt WHERE naz_a_id=(?)\"\"\", (1, ))\n",
    "results1 = cursor1.fetchall()\n",
    "for r in results1:\n",
    "    adr2 = adr + r[1]\n",
    "    print(adr2)"
   ]
  },
  {
   "cell_type": "code",
   "execution_count": null,
   "metadata": {},
   "outputs": [],
   "source": []
  }
 ],
 "metadata": {
  "kernelspec": {
   "display_name": "Python 3",
   "language": "python",
   "name": "python3"
  },
  "language_info": {
   "codemirror_mode": {
    "name": "ipython",
    "version": 3
   },
   "file_extension": ".py",
   "mimetype": "text/x-python",
   "name": "python",
   "nbconvert_exporter": "python",
   "pygments_lexer": "ipython3",
   "version": "3.6.6"
  }
 },
 "nbformat": 4,
 "nbformat_minor": 2
}
